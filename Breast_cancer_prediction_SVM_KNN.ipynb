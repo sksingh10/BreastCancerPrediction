{
 "cells": [
  {
   "cell_type": "markdown",
   "metadata": {
    "_cell_guid": "869a833b-f230-4de5-0e29-832c941ebe63",
    "_uuid": "2a0131b9d50cdc999db1b6e307cf6523a9b3cd96"
   },
   "source": [
    "# Classification of breast cancer data  [35 points]"
   ]
  },
  {
   "cell_type": "markdown",
   "metadata": {
    "_cell_guid": "68b5ba03-c522-fdc1-b7a7-3cfb8111d27f",
    "_uuid": "5570ff5a18eb782cd19c473fae1175c2ba166f0f"
   },
   "source": [
    "You will implement a Support Vector Machine (SVM) model for the classification of breast cancer data and compare its performance with K-nearest Neighbors."
   ]
  },
  {
   "cell_type": "markdown",
   "metadata": {
    "_cell_guid": "58b4aa6d-560d-ab8a-96f6-bc8f3324b77e",
    "_uuid": "de50b5327b7670d518de50f42b3b5ae2bf7c987f"
   },
   "source": [
    "#### Loading the data"
   ]
  },
  {
   "cell_type": "code",
   "execution_count": null,
   "metadata": {
    "_cell_guid": "43f8b352-ff59-db53-a7f3-1b6e462e43ef",
    "_uuid": "38eb2a538c2116a1fbeaa28a94cc3050422563ae"
   },
   "outputs": [],
   "source": [
    "import pandas as pd\n",
    "import numpy as np\n",
    "from matplotlib import pyplot as plt\n",
    "import seaborn as sns"
   ]
  },
  {
   "cell_type": "code",
   "execution_count": null,
   "metadata": {
    "_cell_guid": "96c40b55-e0f6-bf5d-8de0-43e339a40d9a",
    "_uuid": "f896ae2ebbeba10e38a8e5472aecf0423f46e3e1"
   },
   "outputs": [],
   "source": [
    "## loading the raw data using pandas\n",
    "bc=...\n",
    "bc.head()"
   ]
  },
  {
   "cell_type": "markdown",
   "metadata": {
    "_cell_guid": "58b4aa6d-560d-ab8a-96f6-bc8f3324b77e",
    "_uuid": "de50b5327b7670d518de50f42b3b5ae2bf7c987f"
   },
   "source": [
    "#### Pre-process and understand data (5 pts)\n",
    "\n",
    "The data label is the diagnosis (M = malignant, B = benign).\n",
    "\n",
    "**Question (2pts):** Convert diagnosis column to binary 0-1 label where 1 incidates malignancy."
   ]
  },
  {
   "cell_type": "code",
   "execution_count": null,
   "metadata": {
    "_cell_guid": "7839a07a-13e3-5023-59d8-b6360af77d40",
    "_uuid": "7e5e5c27f47f032dd04b7c3d76415ecb21f3d55d"
   },
   "outputs": [],
   "source": [
    "## convert diagnosis to numerical label (M = malignant, B = benign)\n",
    "y=...\n",
    "y.head() # response variable"
   ]
  },
  {
   "cell_type": "markdown",
   "metadata": {},
   "source": [
    "**Question (3pts):** Plot the first 2 features against diagnosis. Is the data linearly separable and what happens if we fit a hard-margin SVM to the data?"
   ]
  },
  {
   "cell_type": "code",
   "execution_count": null,
   "metadata": {
    "_cell_guid": "e2ebdb3e-1e0f-d034-2954-f1868de9d8a1",
    "_uuid": "8d14671033a4b38df8f5b84733399c3eb2521ac4"
   },
   "outputs": [],
   "source": [
    "##plotting the the first 2 features against diagnosis"
   ]
  },
  {
   "cell_type": "markdown",
   "metadata": {
    "_cell_guid": "58b4aa6d-560d-ab8a-96f6-bc8f3324b77e",
    "_uuid": "de50b5327b7670d518de50f42b3b5ae2bf7c987f"
   },
   "source": [
    "#### Splitting the data: training and test "
   ]
  },
  {
   "cell_type": "code",
   "execution_count": null,
   "metadata": {
    "_cell_guid": "561e3c28-2218-a654-47f2-8b69659ad0d6",
    "_uuid": "c32c4198f42b8629718454b38a7e818e52760a17"
   },
   "outputs": [],
   "source": [
    "from sklearn.model_selection import train_test_split\n",
    "\n",
    "X = ...\n",
    "X_train, X_test, y_train, y_test = train_test_split(X, y, test_size=0.25, random_state=0)"
   ]
  },
  {
   "cell_type": "markdown",
   "metadata": {
    "_cell_guid": "cda00849-bf4e-4ab9-570c-85a2e81de990",
    "_uuid": "662a78c031b64e0c33c3b442502950d13c8a44a8"
   },
   "source": [
    "## 1. Support Vector Machine (SVM) (20 pts)"
   ]
  },
  {
   "cell_type": "markdown",
   "metadata": {},
   "source": [
    "**Question (15pts):** Train and test a SVM model with the following requirements:\n",
    "- Use GridSearchCV to find the best combination of model hyper-parameters: kernel: {linear, rbf}; for both kernel, C:{1, 10, 100, 1000}; for rbf kernel 'gamma' = {1e-3, 1e-4, 1e-5}.\n",
    "- Try both accuracy and recall metric as scoring function in GridSearchCV\n",
    "- Report the best hyper-parameter setting for each metric\n",
    "- Report and plot the confusion matrix of the best estimator for each metric"
   ]
  },
  {
   "cell_type": "code",
   "execution_count": null,
   "metadata": {
    "_cell_guid": "0ba22d0a-020a-f7aa-71f6-09c34617a72b",
    "_uuid": "6924ad77be6718a1bfbeb1470f7c1df7c07a1a96"
   },
   "outputs": [],
   "source": [
    "from sklearn.svm import SVC\n",
    "from sklearn.model_selection import GridSearchCV\n",
    "from sklearn.metrics import confusion_matrix\n",
    "\n",
    "svc=...\n",
    "param_grid = ...\n",
    "scores = ...\n",
    "for sc in scores:\n",
    "    grid=...\n",
    "    print(\"# Tuning hyper-parameters for %s\" % sc)\n",
    "    grid.fit(X_train,y_train)\n",
    "    \n",
    "    svc = ...\n",
    "    \n",
    "    y_pred_svc =...\n",
    "    ## computing and plotting confusion matrix"
   ]
  },
  {
   "cell_type": "markdown",
   "metadata": {
    "_cell_guid": "61e2c735-961d-7b21-f051-8e71cb2c752d",
    "_uuid": "36c5a4719de97713a1fb6b864da1ad9d15577c85"
   },
   "source": [
    "**Question (5pts):** Fit an SVM model to a slice of data that contains only the first 2 features and visualize decision boudary based on these two features."
   ]
  },
  {
   "cell_type": "code",
   "execution_count": null,
   "metadata": {
    "_cell_guid": "f6624a12-012a-9013-53f0-f40904888b37",
    "_uuid": "5b02b540cb8e4b758194adcbf95c70c04f92bca5"
   },
   "outputs": [],
   "source": [
    "from sklearn import metrics\n",
    "\n",
    "## for display purposes, we fit the model on the first two features\n",
    "svc.fit(...)\n",
    "\n",
    "## Plotting the decision boundary for all data (both train and test)\n",
    "...\n",
    "\n",
    "plt.title('SVC')\n",
    "plt.show()"
   ]
  },
  {
   "cell_type": "markdown",
   "metadata": {
    "_cell_guid": "87cc8390-8f88-e43e-2a8c-2a68142e25d6",
    "_uuid": "879a6033a5a87d6603527e810f269457b730647b"
   },
   "source": [
    "### 2. K-nearest Neighbors classifier (10pts)"
   ]
  },
  {
   "cell_type": "markdown",
   "metadata": {
    "_cell_guid": "450da1ef-17ce-24c9-90f8-6b8e265cfd82",
    "_uuid": "87e58003e1015470cc106a4bdf8a5713fd5128e6"
   },
   "source": [
    "**Question:** Repeat all the tasks for SVM to train a kNN classifier where the hyper-parameter is only k (number of neighbors) ranging from 1 to 50 in kNN. Compare the results with those of SVM, which classifier gives better results?"
   ]
  },
  {
   "cell_type": "code",
   "execution_count": null,
   "metadata": {
    "_cell_guid": "e1500c75-0589-44fd-c082-3babec1ac82b",
    "_uuid": "732a9d0e5051c1c521596fd286964bc68d0eeb23"
   },
   "outputs": [],
   "source": [
    "from sklearn.neighbors import KNeighborsClassifier\n",
    "knn=...\n",
    "\n",
    "k_range=...\n",
    "param_grid=dict(n_neighbors=k_range)\n",
    "scores = ...\n",
    "for sc in scores:\n",
    "    grid_knn=...\n",
    "    \n",
    "    grid_knn.fit(X_train,y_train)\n",
    "    \n",
    "    knn = ...\n",
    "    \n",
    "    y_pred_knn =...\n",
    "    ## computing and plotting confusion matrix\n",
    "    "
   ]
  },
  {
   "cell_type": "code",
   "execution_count": null,
   "metadata": {
    "_cell_guid": "8bee09c2-fead-439e-ec7f-4a77fd77d8fa",
    "_uuid": "16af57113c94b9d027181a5ab7b60c252907a0bd"
   },
   "outputs": [],
   "source": [
    "knn.fit(X_train[:,0:2], y_train)\n",
    "## Plotting the decision boundary for all data (both train and test)\n",
    "\n",
    "\n",
    "plt.title('KNN')\n",
    "plt.show()"
   ]
  }
 ],
 "metadata": {
  "_change_revision": 0,
  "_is_fork": false,
  "kernelspec": {
   "display_name": "Python 3",
   "language": "python",
   "name": "python3"
  },
  "language_info": {
   "codemirror_mode": {
    "name": "ipython",
    "version": 3
   },
   "file_extension": ".py",
   "mimetype": "text/x-python",
   "name": "python",
   "nbconvert_exporter": "python",
   "pygments_lexer": "ipython3",
   "version": "3.7.1"
  }
 },
 "nbformat": 4,
 "nbformat_minor": 1
}
